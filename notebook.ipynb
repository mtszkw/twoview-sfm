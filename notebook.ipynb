{
 "cells": [
  {
   "cell_type": "code",
   "execution_count": 5,
   "metadata": {},
   "outputs": [
    {
     "name": "stdout",
     "output_type": "stream",
     "text": [
      "Found 2 images in data/delivery_area_2l/ dataset.\n"
     ]
    }
   ],
   "source": [
    "import sys\n",
    "sys.path.append('/src')\n",
    "\n",
    "from sfm.data_reader import DataReader\n",
    "dataReader = DataReader(\"data/delivery_area_2l/\", \"\", \"\", \".png\")\n",
    "# dataReader = DataReader(\"data/statue/\", \"\", \"\", \".JPG\")"
   ]
  },
  {
   "cell_type": "code",
   "execution_count": 7,
   "metadata": {},
   "outputs": [],
   "source": [
    "import numpy as np\n",
    "import matplotlib.pyplot as plt\n",
    "\n",
    "scale = 1.0\n",
    "convert_to_rgb = False\n",
    "frameL = dataReader.readFrame(\"{:04d}\".format(0), convert_to_rgb, scale)\n",
    "frameR = dataReader.readFrame(\"{:04d}\".format(1), convert_to_rgb, scale)\n",
    "\n",
    "# plt.figure(figsize=(10, 10))\n",
    "# plt.imshow(np.hstack((frameL, frameR)))"
   ]
  },
  {
   "cell_type": "code",
   "execution_count": 8,
   "metadata": {},
   "outputs": [],
   "source": [
    "import cv2\n",
    "\n",
    "sift = cv2.xfeatures2d.SIFT_create(nfeatures=200)\n",
    "\n",
    "keypointsL, descriptorsL = sift.detectAndCompute(frameL, mask=None)\n",
    "keypointsR, descriptorsR = sift.detectAndCompute(frameR, mask=None)\n",
    "\n",
    "keypointsImage = cv2.drawKeypoints(frameL, keypointsL, None)\n",
    "# plt.figure(figsize=(10, 10))\n",
    "# plt.imshow(keypointsImage)\n",
    "# plt.show()"
   ]
  },
  {
   "cell_type": "code",
   "execution_count": 9,
   "metadata": {},
   "outputs": [],
   "source": [
    "from sfm.matching import generateDisparityMap\n",
    "\n",
    "frameGrayL = cv2.cvtColor(frameL, cv2.COLOR_RGB2GRAY)\n",
    "frameGrayR = cv2.cvtColor(frameR, cv2.COLOR_RGB2GRAY)\n",
    "disparityMap = generateDisparityMap(frameGrayL, frameGrayR)\n",
    "\n",
    "# plt.figure(figsize=(10, 10))\n",
    "# plt.imshow(disparityMap, cmap='gray')\n",
    "# plt.show()"
   ]
  },
  {
   "cell_type": "code",
   "execution_count": 10,
   "metadata": {},
   "outputs": [
    {
     "name": "stdout",
     "output_type": "stream",
     "text": [
      "[[ 1.00000000e+00  0.00000000e+00  0.00000000e+00 -5.53682000e+02]\n",
      " [ 0.00000000e+00  1.00000000e+00  0.00000000e+00 -2.32397000e+02]\n",
      " [ 0.00000000e+00  0.00000000e+00  0.00000000e+00  5.41764000e+02]\n",
      " [ 0.00000000e+00  0.00000000e+00  1.66973899e-02  0.00000000e+00]]\n"
     ]
    }
   ],
   "source": [
    "fx, fy = 541.764, 541.764\n",
    "cx, cy = 553.682, 232.397\n",
    "baseline = 59.8896\n",
    "width, height = 942, 489\n",
    "\n",
    "Q = np.array([\n",
    "    [1, 0, 0, -cx],\n",
    "    [0, 1, 0, -cy],\n",
    "    [0, 0, 0, fx],\n",
    "    [0, 0, 1/baseline, 0]\n",
    "])\n",
    "print(Q)"
   ]
  },
  {
   "cell_type": "code",
   "execution_count": 11,
   "metadata": {},
   "outputs": [
    {
     "name": "stdout",
     "output_type": "stream",
     "text": [
      "(-228.37987, -98.71038, 230.11368, 51, 51, 51)\n"
     ]
    }
   ],
   "source": [
    "image3D = cv2.reprojectImageTo3D(disparityMap, Q, handleMissingValues=True)\n",
    "\n",
    "pointsColors = []\n",
    "for y in range(height):\n",
    "    for x in range(width):\n",
    "        point3D = image3D[y, x]\n",
    "        if point3D[2] != 10000:\n",
    "            color3D = frameL[y, x]\n",
    "            pointsColors.append((point3D[0], point3D[1], point3D[2], color3D[0], color3D[1], color3D[2]))\n",
    "\n",
    "print(pointsColors[0])"
   ]
  },
  {
   "cell_type": "code",
   "execution_count": 12,
   "metadata": {},
   "outputs": [
    {
     "name": "stdout",
     "output_type": "stream",
     "text": [
      "Saved point cloud to point_cloud.ply\n"
     ]
    }
   ],
   "source": [
    "from sfm.point_cloud import savePointCloud\n",
    "savePointCloud(pointsColors, \"point_cloud.ply\")"
   ]
  },
  {
   "cell_type": "code",
   "execution_count": 14,
   "metadata": {},
   "outputs": [
    {
     "name": "stdout",
     "output_type": "stream",
     "text": [
      "[[-0.08931355  0.4931712   0.12053946]\n",
      " [-0.42712554 -0.15412414 -0.50245128]\n",
      " [-0.27462999  0.43777124 -0.09253343]]\n"
     ]
    }
   ],
   "source": [
    "# K = np.array([[fx, 0, cx], [0, fx, cy], [0, 0, 1]])\n",
    "\n",
    "# pointsL = np.array([x.pt for x in keypointsL])\n",
    "# pointsR = np.array([x.pt for x in keypointsR])\n",
    "# pointsL_norm = cv2.undistortPoints(np.expand_dims(pointsL, axis=1), cameraMatrix=K, distCoeffs=None)\n",
    "# pointsR_norm = cv2.undistortPoints(np.expand_dims(pointsR, axis=1), cameraMatrix=K, distCoeffs=None)\n",
    "\n",
    "# E, mask = cv2.findEssentialMat(pointsR_norm, pointsL_norm, focal=fx, pp=(cx,cy), method=cv2.RANSAC)\n",
    "# print(E)"
   ]
  },
  {
   "cell_type": "code",
   "execution_count": 16,
   "metadata": {},
   "outputs": [
    {
     "name": "stdout",
     "output_type": "stream",
     "text": [
      "[[ 0.98477532  0.16489675  0.05501477]\n",
      " [-0.15365781  0.97372686 -0.16806334]\n",
      " [-0.08128246  0.15705118  0.98423985]] \n",
      " [[ 0.68450784]\n",
      " [ 0.28758385]\n",
      " [-0.66988398]]\n"
     ]
    }
   ],
   "source": [
    "# _, R, T, mask = cv2.recoverPose(E, pointsR, pointsL, focal=fx, pp=(cx,cy), mask=mask)\n",
    "# print(R, \"\\n\", T)"
   ]
  },
  {
   "cell_type": "code",
   "execution_count": null,
   "metadata": {},
   "outputs": [],
   "source": []
  }
 ],
 "metadata": {
  "kernelspec": {
   "display_name": "Python 3",
   "language": "python",
   "name": "python3"
  },
  "language_info": {
   "codemirror_mode": {
    "name": "ipython",
    "version": 3
   },
   "file_extension": ".py",
   "mimetype": "text/x-python",
   "name": "python",
   "nbconvert_exporter": "python",
   "pygments_lexer": "ipython3",
   "version": "3.6.7"
  }
 },
 "nbformat": 4,
 "nbformat_minor": 2
}
